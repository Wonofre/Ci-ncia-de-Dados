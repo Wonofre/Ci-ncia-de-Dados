{
  "nbformat": 4,
  "nbformat_minor": 0,
  "metadata": {
    "colab": {
      "provenance": []
    },
    "kernelspec": {
      "name": "python3",
      "display_name": "Python 3"
    },
    "language_info": {
      "name": "python"
    }
  },
  "cells": [
    {
      "cell_type": "markdown",
      "source": [
        "**Desafios de Condicionais**"
      ],
      "metadata": {
        "id": "4YCszlEwbf0l"
      }
    },
    {
      "cell_type": "markdown",
      "source": [
        "1) Escreva um programa que peça à pessoa usuária para fornecer dois números e exibir o número maior."
      ],
      "metadata": {
        "id": "dnQnqId_R3cO"
      }
    },
    {
      "cell_type": "code",
      "source": [
        "numero = int(input(\"insira o primeiro numero:\\n\"))\n",
        "numero2 = int(input(\"Insira o segundo numero:\\n\"))\n",
        "if numero>numero2:\n",
        "  print(f\"{numero} é maior que {numero2}\")\n",
        "else:\n",
        "  print(f\"{numero2} é maior que {numero}\")"
      ],
      "metadata": {
        "colab": {
          "base_uri": "https://localhost:8080/"
        },
        "id": "VRK-3rNBRzQD",
        "outputId": "5dbcc194-e438-4a8d-f30c-b50219cea5f4"
      },
      "execution_count": null,
      "outputs": [
        {
          "output_type": "stream",
          "name": "stdout",
          "text": [
            "insira o primeiro numero:\n",
            "36\n",
            "Insira o segundo numero:\n",
            "10\n",
            "36 é maior que 10\n"
          ]
        }
      ]
    },
    {
      "cell_type": "markdown",
      "source": [
        "2) Escreva um programa que solicite o percentual de crescimento de produção de uma empresa e informe se houve um crescimento (porcentagem positiva) ou decrescimento (porcentagem negativa)."
      ],
      "metadata": {
        "id": "Vdo5-H1gSeni"
      }
    },
    {
      "cell_type": "code",
      "source": [
        "percentualC = float(input(\"insira o percentual de crescimento:\\n\"))\n",
        "if percentualC < 0:\n",
        "  print(\"percentual mostra um decrescimento\")\n",
        "else:\n",
        "  print(\"Percentual mostra um crescimento\")"
      ],
      "metadata": {
        "colab": {
          "base_uri": "https://localhost:8080/"
        },
        "id": "wHEDYIgTSgLU",
        "outputId": "f1ef586a-9c61-440a-a19e-5fac3f1e47de"
      },
      "execution_count": null,
      "outputs": [
        {
          "output_type": "stream",
          "name": "stdout",
          "text": [
            "insira o percentual de crescimento:\n",
            "10\n",
            "Percentual mostra um crescimento\n"
          ]
        }
      ]
    },
    {
      "cell_type": "markdown",
      "source": [
        "3) Escreva um programa que determine se uma letra fornecida pela pessoa usuária é uma vogal ou consoante."
      ],
      "metadata": {
        "id": "1UlNd2QUTGFr"
      }
    },
    {
      "cell_type": "code",
      "source": [
        "letra = input(\"insira uma letra:\\n\")\n",
        "vogals = \"A, E, I, O, U, a, e, i, o, u\"\n",
        "if letra in vogals:\n",
        "  print(\"sua letra é uma vogal\")\n",
        "else:\n",
        "  print(\"não é uma vogal\")"
      ],
      "metadata": {
        "colab": {
          "base_uri": "https://localhost:8080/"
        },
        "id": "yNAD0fOSTIo4",
        "outputId": "cf3f8e22-1aa7-42be-f869-2cec2da2c82b"
      },
      "execution_count": null,
      "outputs": [
        {
          "output_type": "stream",
          "name": "stdout",
          "text": [
            "insira uma letra:\n",
            "E\n",
            "sua letra é uma vogal\n"
          ]
        }
      ]
    },
    {
      "cell_type": "markdown",
      "source": [
        "4) Escreva um programa que leia valores médios de preços de um modelo de carro por 3 anos consecutivos e exiba o valor mais alto e mais baixo entre esses três anos."
      ],
      "metadata": {
        "id": "5R_oEuqfT2TI"
      }
    },
    {
      "cell_type": "code",
      "source": [
        "valorMaior = -100\n",
        "valorMenor = 999999\n",
        "valM1 = float(input(\"insira o valor do modelo de carro do ano 1:\\n\"))\n",
        "if valM1 > valorMaior:\n",
        "  valorMaior = valM1\n",
        "if valM1 < valorMenor:\n",
        "  valorMenor = valM1\n",
        "valM2= float(input(\"insira o valor do modelo de carro do ano 2:\\n\"))\n",
        "if valM2 > valorMaior:\n",
        "  valorMaior = valM2\n",
        "if valM2 < valorMenor:\n",
        "  valorMenor = valM2\n",
        "valM3 = float(input(\"insira o valor do modelo de carro do ano 3:\\n\"))\n",
        "if valM3 > valorMaior:\n",
        "  valorMaior = valM3\n",
        "if valM3 < valorMenor:\n",
        "  valorMenor = valM3\n",
        "if valM1 == valM2 and valM2 == valM3:\n",
        "  print(\"os três valores são iguais\")\n",
        "else:\n",
        "  print(f\"o Maior valor é {valorMaior} e o menor valor é {valorMenor}\")\n"
      ],
      "metadata": {
        "colab": {
          "base_uri": "https://localhost:8080/"
        },
        "id": "16kqluM7T3A0",
        "outputId": "55f0d390-15e9-4f65-fee1-dd55df8eb611"
      },
      "execution_count": null,
      "outputs": [
        {
          "output_type": "stream",
          "name": "stdout",
          "text": [
            "insira o valor do modelo de carro do ano 1:\n",
            "10\n",
            "insira o valor do modelo de carro do ano 2:\n",
            "10\n",
            "insira o valor do modelo de carro do ano 3:\n",
            "10\n",
            "os três valores são iguais\n"
          ]
        }
      ]
    },
    {
      "cell_type": "markdown",
      "source": [
        "5) Escreva um programa que pergunte sobre o preço de três produtos e indique qual é o produto mais barato para comprar."
      ],
      "metadata": {
        "id": "K7pq-TtEY2KG"
      }
    },
    {
      "cell_type": "code",
      "source": [
        "prod1 = float(input(\"insira o preço do primeiro produto:\\n\"))\n",
        "prod2 = float(input(\"insira o preço do segundo produto:\\n\"))\n",
        "prod3 = float(input(\"insira o preço do terceiro produto:\\n\"))\n",
        "if prod1 < prod2 and prod1 < prod3:\n",
        "  print(\"produto 1 é o mais barato para comprar\")\n",
        "elif prod2 < prod1 and prod2 < prod3:\n",
        "  print(\"produto 2 é o mais barato para comprar\")\n",
        "elif prod3 < prod2 and prod3 < prod1:\n",
        "  print(\"produto 3 é o mais barato para comprar\")\n",
        "elif prod1 == prod2 and prod2 == prod3:\n",
        "  print(\"os 3 produtos tem o mesmo preço\")"
      ],
      "metadata": {
        "colab": {
          "base_uri": "https://localhost:8080/"
        },
        "id": "_1KSDscUY4d6",
        "outputId": "1487cbe3-1edf-44cb-cd63-37035120a332"
      },
      "execution_count": null,
      "outputs": [
        {
          "output_type": "stream",
          "name": "stdout",
          "text": [
            "insira o preço do primeiro produto:\n",
            "15\n",
            "insira o preço do segundo produto:\n",
            "30\n",
            "insira o preço do terceiro produto:\n",
            "5\n",
            "produto 3 é o mais barato para comprar\n"
          ]
        }
      ]
    },
    {
      "cell_type": "markdown",
      "source": [
        "6) Escreva um programa que leia três números e os exiba em ordem decrescente."
      ],
      "metadata": {
        "id": "IQ5KrEnqcVxf"
      }
    },
    {
      "cell_type": "code",
      "source": [
        "number1 = float(input(\"insira o numero1:\\n\"))\n",
        "number2 = float(input(\"insira o numero2:\\n\"))\n",
        "number3 = float(input(\"insira o numero3:\\n\"))\n",
        "if number1 <= number2 and number1 <= number3:\n",
        "  ordem1 = number1\n",
        "  if number2 <= number3:\n",
        "    ordem2 = number2\n",
        "    ordem3 = number3\n",
        "  else:\n",
        "    ordem2 = number3\n",
        "    ordem3 = number2\n",
        "elif number2 <= number1 and number2 <= number3:\n",
        "  ordem1=number2\n",
        "  if number1 <= number3:\n",
        "    ordem2 = number1\n",
        "    ordem3 = number3\n",
        "  else:\n",
        "    ordem2 = number3\n",
        "    ordem3 = number1\n",
        "elif number3 <= number2 and number3 <= number1:\n",
        "  ordem1=number3\n",
        "  if number2 <= number1:\n",
        "    ordem2 = number2\n",
        "    ordem3 = number1\n",
        "  else:\n",
        "    ordem2 = number1\n",
        "    ordem3 = number2\n",
        "elif number1 == number2 and number2 == number3:\n",
        "  ordem1 = number1\n",
        "  ordem2 = number2\n",
        "  ordem3 = number3\n",
        "  print(\"os 3 numeros são iguals\\n\")\n",
        "print(f\"{ordem1},{ordem2},{ordem3}\")\n",
        "\n"
      ],
      "metadata": {
        "colab": {
          "base_uri": "https://localhost:8080/"
        },
        "id": "H7UFiLvYZGDP",
        "outputId": "4d6fdeaa-8c3f-4169-d019-c04cfc1b7111"
      },
      "execution_count": null,
      "outputs": [
        {
          "output_type": "stream",
          "name": "stdout",
          "text": [
            "insira o numero1:\n",
            "1\n",
            "insira o numero2:\n",
            "2\n",
            "insira o numero3:\n",
            "2\n",
            "1.0,2.0,2.0\n"
          ]
        }
      ]
    },
    {
      "cell_type": "markdown",
      "source": [
        "7) Escreva um programa que pergunte em qual turno a pessoa usuária estuda (\"manhã\", \"tarde\" ou \"noite\") e exiba a mensagem \"Bom Dia!\", \"Boa Tarde!\", \"Boa Noite!\", ou \"Valor Inválido!\", conforme o caso."
      ],
      "metadata": {
        "id": "dKnA_zselvUD"
      }
    },
    {
      "cell_type": "code",
      "source": [
        "turno = input(\"insira o turno que estuda(manhã,tarde,noite):\\n\")\n",
        "if turno == 'manhã':\n",
        "  print(\"bom dia\")\n",
        "elif turno == 'tarde':\n",
        "  print(\"boa tarde\")\n",
        "elif turno == 'noite':\n",
        "  print(\"boa noite\")\n",
        "else:\n",
        "  print(\"valor inválido\\n\")"
      ],
      "metadata": {
        "colab": {
          "base_uri": "https://localhost:8080/"
        },
        "id": "vfK5j0N0ls5V",
        "outputId": "4efa54e5-f2f5-4d56-add9-46bc92d1e320"
      },
      "execution_count": null,
      "outputs": [
        {
          "output_type": "stream",
          "name": "stdout",
          "text": [
            "insira o turno que estuda(manhã,tarde,noite):\n",
            "noite\n",
            "boa noite\n"
          ]
        }
      ]
    },
    {
      "cell_type": "markdown",
      "source": [
        "8) Escreva um programa que peça um número inteiro à pessoa usuária e determine se ele é par ou ímpar. Dica: Você pode utilizar o operador módulo %."
      ],
      "metadata": {
        "id": "UltKjRsnmctI"
      }
    },
    {
      "cell_type": "code",
      "source": [
        "Parouimpar = int(input(\"insira um numero inteiro para saber se é par ou impar:\\n\"))\n",
        "par = Parouimpar % 2 == 0\n",
        "if par:\n",
        "  print(\"par\")\n",
        "else:\n",
        "  print(\"impar\")\n"
      ],
      "metadata": {
        "colab": {
          "base_uri": "https://localhost:8080/"
        },
        "id": "3UOvDpmCmdw3",
        "outputId": "0006f028-a775-41ff-cb4a-b96026e3b1dc"
      },
      "execution_count": null,
      "outputs": [
        {
          "output_type": "stream",
          "name": "stdout",
          "text": [
            "insira um numero para saber se é par ou impar:\n",
            "1\n",
            "impar\n"
          ]
        }
      ]
    },
    {
      "cell_type": "markdown",
      "source": [
        "9) Escreva um programa que peça um número à pessoa usuária e informe se ele é inteiro ou decimal."
      ],
      "metadata": {
        "id": "nuOLYFJKndW0"
      }
    },
    {
      "cell_type": "code",
      "source": [
        "num = float(input(\"insira um numero:\\n\"))\n",
        "if num % 1 == 0:\n",
        "    print('O número é inteiro.')\n",
        "else:\n",
        "    print('O número é decimal.')"
      ],
      "metadata": {
        "colab": {
          "base_uri": "https://localhost:8080/"
        },
        "id": "VvUwxUEm3QjW",
        "outputId": "9e61f527-ab0c-41d2-9480-e6d5b707fee7"
      },
      "execution_count": null,
      "outputs": [
        {
          "output_type": "stream",
          "name": "stdout",
          "text": [
            "insira um numero:\n",
            "5.5\n",
            "O número é decimal.\n"
          ]
        }
      ]
    },
    {
      "cell_type": "markdown",
      "source": [
        "10) Um programa deve ser escrito para ler dois números e, em seguida, perguntar à pessoa usuária qual operação ele deseja realizar. O resultado da operação deve incluir informações sobre o número - se é par ou ímpar, positivo ou negativo e inteiro ou decimal."
      ],
      "metadata": {
        "id": "W3wPmOMn4B5c"
      }
    },
    {
      "cell_type": "code",
      "source": [
        "lern1 = float(input(\"insira o numero 1:\\n\"))\n",
        "op = input(\"insira a operação que deseja fazer( * , / , - ou +):\\n\")\n",
        "lern2 = float(input(\"insira o numero 2:\\n\"))\n",
        "\n",
        "#decidindo os operadores\n",
        "\n",
        "if op == '+':\n",
        "  resultado = lern1 + lern2\n",
        "elif op == '-':\n",
        "  resultado = lern1 - lern2\n",
        "elif op == '/':\n",
        "  resultado = lern1 / lern2\n",
        "elif op == '*':\n",
        "  resultado = lern1 * lern2\n",
        "else:\n",
        "  print(\"Valor invalido\")\n",
        "par = resultado % 2 == 0\n",
        "if par:\n",
        "  ParOuImpar = \"Par\"\n",
        "elif not par:\n",
        "  ParOuImpar = \"impar\"\n",
        "\n",
        "positivo = 0 < resultado\n",
        "if positivo:\n",
        "  PosOuNeg = \"Positivo\"\n",
        "elif not positivo:\n",
        "  PosOuNeg = \"Negativo\"\n",
        "\n",
        "inteiro = resultado % 1 == 0\n",
        "if inteiro:\n",
        "  IntOuDec = \"inteiro\"\n",
        "elif not inteiro:\n",
        "  IntOuDec = \"Decimal\"\n",
        "\n",
        "print(f\"o resultado da operação é:{resultado} que é um numero {PosOuNeg},{ParOuImpar} e {IntOuDec}\")\n"
      ],
      "metadata": {
        "id": "a-nGyTpR4BnM"
      },
      "execution_count": null,
      "outputs": []
    },
    {
      "cell_type": "markdown",
      "source": [
        "1) Escreva um programa que peça à pessoa usuária para fornecer dois números e exibir o número maior."
      ],
      "metadata": {
        "id": "5Hx4tyHkb4BX"
      }
    },
    {
      "cell_type": "code",
      "source": [
        "numero = int(input(\"insira o primeiro numero:\\n\"))\n",
        "numero2 = int(input(\"Insira o segundo numero:\\n\"))\n",
        "if numero>numero2:\n",
        "  print(f\"{numero} é maior que {numero2}\")\n",
        "else:\n",
        "  print(f\"{numero2} é maior que {numero}\")"
      ],
      "metadata": {
        "colab": {
          "base_uri": "https://localhost:8080/"
        },
        "outputId": "5dbcc194-e438-4a8d-f30c-b50219cea5f4",
        "id": "HVh7A-B9b4Be"
      },
      "execution_count": null,
      "outputs": [
        {
          "output_type": "stream",
          "name": "stdout",
          "text": [
            "insira o primeiro numero:\n",
            "36\n",
            "Insira o segundo numero:\n",
            "10\n",
            "36 é maior que 10\n"
          ]
        }
      ]
    },
    {
      "cell_type": "markdown",
      "source": [
        "2) Escreva um programa que solicite o percentual de crescimento de produção de uma empresa e informe se houve um crescimento (porcentagem positiva) ou decrescimento (porcentagem negativa)."
      ],
      "metadata": {
        "id": "fE390WXkb4Bf"
      }
    },
    {
      "cell_type": "code",
      "source": [
        "percentualC = float(input(\"insira o percentual de crescimento:\\n\"))\n",
        "if percentualC < 0:\n",
        "  print(\"percentual mostra um decrescimento\")\n",
        "else:\n",
        "  print(\"Percentual mostra um crescimento\")"
      ],
      "metadata": {
        "colab": {
          "base_uri": "https://localhost:8080/"
        },
        "outputId": "f1ef586a-9c61-440a-a19e-5fac3f1e47de",
        "id": "UemnJzDFb4Bf"
      },
      "execution_count": null,
      "outputs": [
        {
          "output_type": "stream",
          "name": "stdout",
          "text": [
            "insira o percentual de crescimento:\n",
            "10\n",
            "Percentual mostra um crescimento\n"
          ]
        }
      ]
    },
    {
      "cell_type": "markdown",
      "source": [
        "3) Escreva um programa que determine se uma letra fornecida pela pessoa usuária é uma vogal ou consoante."
      ],
      "metadata": {
        "id": "CImkXLOHb4Bf"
      }
    },
    {
      "cell_type": "code",
      "source": [
        "letra = input(\"insira uma letra:\\n\")\n",
        "vogals = \"A, E, I, O, U, a, e, i, o, u\"\n",
        "if letra in vogals:\n",
        "  print(\"sua letra é uma vogal\")\n",
        "else:\n",
        "  print(\"não é uma vogal\")"
      ],
      "metadata": {
        "colab": {
          "base_uri": "https://localhost:8080/"
        },
        "outputId": "cf3f8e22-1aa7-42be-f869-2cec2da2c82b",
        "id": "IKLGyU-Yb4Bg"
      },
      "execution_count": null,
      "outputs": [
        {
          "output_type": "stream",
          "name": "stdout",
          "text": [
            "insira uma letra:\n",
            "E\n",
            "sua letra é uma vogal\n"
          ]
        }
      ]
    },
    {
      "cell_type": "markdown",
      "source": [
        "4) Escreva um programa que leia valores médios de preços de um modelo de carro por 3 anos consecutivos e exiba o valor mais alto e mais baixo entre esses três anos."
      ],
      "metadata": {
        "id": "2zH1I_HRb4Bg"
      }
    },
    {
      "cell_type": "code",
      "source": [
        "valorMaior = -100\n",
        "valorMenor = 999999\n",
        "valM1 = float(input(\"insira o valor do modelo de carro do ano 1:\\n\"))\n",
        "if valM1 > valorMaior:\n",
        "  valorMaior = valM1\n",
        "if valM1 < valorMenor:\n",
        "  valorMenor = valM1\n",
        "valM2= float(input(\"insira o valor do modelo de carro do ano 2:\\n\"))\n",
        "if valM2 > valorMaior:\n",
        "  valorMaior = valM2\n",
        "if valM2 < valorMenor:\n",
        "  valorMenor = valM2\n",
        "valM3 = float(input(\"insira o valor do modelo de carro do ano 3:\\n\"))\n",
        "if valM3 > valorMaior:\n",
        "  valorMaior = valM3\n",
        "if valM3 < valorMenor:\n",
        "  valorMenor = valM3\n",
        "if valM1 == valM2 and valM2 == valM3:\n",
        "  print(\"os três valores são iguais\")\n",
        "else:\n",
        "  print(f\"o Maior valor é {valorMaior} e o menor valor é {valorMenor}\")\n"
      ],
      "metadata": {
        "colab": {
          "base_uri": "https://localhost:8080/"
        },
        "outputId": "55f0d390-15e9-4f65-fee1-dd55df8eb611",
        "id": "gtqzGaalb4Bg"
      },
      "execution_count": null,
      "outputs": [
        {
          "output_type": "stream",
          "name": "stdout",
          "text": [
            "insira o valor do modelo de carro do ano 1:\n",
            "10\n",
            "insira o valor do modelo de carro do ano 2:\n",
            "10\n",
            "insira o valor do modelo de carro do ano 3:\n",
            "10\n",
            "os três valores são iguais\n"
          ]
        }
      ]
    },
    {
      "cell_type": "markdown",
      "source": [
        "5) Escreva um programa que pergunte sobre o preço de três produtos e indique qual é o produto mais barato para comprar."
      ],
      "metadata": {
        "id": "J8lHm8Vjb4Bg"
      }
    },
    {
      "cell_type": "code",
      "source": [
        "prod1 = float(input(\"insira o preço do primeiro produto:\\n\"))\n",
        "prod2 = float(input(\"insira o preço do segundo produto:\\n\"))\n",
        "prod3 = float(input(\"insira o preço do terceiro produto:\\n\"))\n",
        "if prod1 < prod2 and prod1 < prod3:\n",
        "  print(\"produto 1 é o mais barato para comprar\")\n",
        "elif prod2 < prod1 and prod2 < prod3:\n",
        "  print(\"produto 2 é o mais barato para comprar\")\n",
        "elif prod3 < prod2 and prod3 < prod1:\n",
        "  print(\"produto 3 é o mais barato para comprar\")\n",
        "elif prod1 == prod2 and prod2 == prod3:\n",
        "  print(\"os 3 produtos tem o mesmo preço\")"
      ],
      "metadata": {
        "colab": {
          "base_uri": "https://localhost:8080/"
        },
        "outputId": "1487cbe3-1edf-44cb-cd63-37035120a332",
        "id": "XL_qff5vb4Bg"
      },
      "execution_count": null,
      "outputs": [
        {
          "output_type": "stream",
          "name": "stdout",
          "text": [
            "insira o preço do primeiro produto:\n",
            "15\n",
            "insira o preço do segundo produto:\n",
            "30\n",
            "insira o preço do terceiro produto:\n",
            "5\n",
            "produto 3 é o mais barato para comprar\n"
          ]
        }
      ]
    },
    {
      "cell_type": "markdown",
      "source": [
        "6) Escreva um programa que leia três números e os exiba em ordem decrescente."
      ],
      "metadata": {
        "id": "dVH8vMNwb4Bh"
      }
    },
    {
      "cell_type": "code",
      "source": [
        "number1 = float(input(\"insira o numero1:\\n\"))\n",
        "number2 = float(input(\"insira o numero2:\\n\"))\n",
        "number3 = float(input(\"insira o numero3:\\n\"))\n",
        "if number1 <= number2 and number1 <= number3:\n",
        "  ordem1 = number1\n",
        "  if number2 <= number3:\n",
        "    ordem2 = number2\n",
        "    ordem3 = number3\n",
        "  else:\n",
        "    ordem2 = number3\n",
        "    ordem3 = number2\n",
        "elif number2 <= number1 and number2 <= number3:\n",
        "  ordem1=number2\n",
        "  if number1 <= number3:\n",
        "    ordem2 = number1\n",
        "    ordem3 = number3\n",
        "  else:\n",
        "    ordem2 = number3\n",
        "    ordem3 = number1\n",
        "elif number3 <= number2 and number3 <= number1:\n",
        "  ordem1=number3\n",
        "  if number2 <= number1:\n",
        "    ordem2 = number2\n",
        "    ordem3 = number1\n",
        "  else:\n",
        "    ordem2 = number1\n",
        "    ordem3 = number2\n",
        "elif number1 == number2 and number2 == number3:\n",
        "  ordem1 = number1\n",
        "  ordem2 = number2\n",
        "  ordem3 = number3\n",
        "  print(\"os 3 numeros são iguals\\n\")\n",
        "print(f\"{ordem1},{ordem2},{ordem3}\")\n",
        "\n"
      ],
      "metadata": {
        "colab": {
          "base_uri": "https://localhost:8080/"
        },
        "outputId": "4d6fdeaa-8c3f-4169-d019-c04cfc1b7111",
        "id": "hr1dkCbOb4Bh"
      },
      "execution_count": null,
      "outputs": [
        {
          "output_type": "stream",
          "name": "stdout",
          "text": [
            "insira o numero1:\n",
            "1\n",
            "insira o numero2:\n",
            "2\n",
            "insira o numero3:\n",
            "2\n",
            "1.0,2.0,2.0\n"
          ]
        }
      ]
    },
    {
      "cell_type": "markdown",
      "source": [
        "7) Escreva um programa que pergunte em qual turno a pessoa usuária estuda (\"manhã\", \"tarde\" ou \"noite\") e exiba a mensagem \"Bom Dia!\", \"Boa Tarde!\", \"Boa Noite!\", ou \"Valor Inválido!\", conforme o caso."
      ],
      "metadata": {
        "id": "tM3onlESb4Bh"
      }
    },
    {
      "cell_type": "code",
      "source": [
        "turno = input(\"insira o turno que estuda(manhã,tarde,noite):\\n\")\n",
        "if turno == 'manhã':\n",
        "  print(\"bom dia\")\n",
        "elif turno == 'tarde':\n",
        "  print(\"boa tarde\")\n",
        "elif turno == 'noite':\n",
        "  print(\"boa noite\")\n",
        "else:\n",
        "  print(\"valor inválido\\n\")"
      ],
      "metadata": {
        "colab": {
          "base_uri": "https://localhost:8080/"
        },
        "outputId": "4efa54e5-f2f5-4d56-add9-46bc92d1e320",
        "id": "blGfLScfb4Bh"
      },
      "execution_count": null,
      "outputs": [
        {
          "output_type": "stream",
          "name": "stdout",
          "text": [
            "insira o turno que estuda(manhã,tarde,noite):\n",
            "noite\n",
            "boa noite\n"
          ]
        }
      ]
    },
    {
      "cell_type": "markdown",
      "source": [
        "8) Escreva um programa que peça um número inteiro à pessoa usuária e determine se ele é par ou ímpar. Dica: Você pode utilizar o operador módulo %."
      ],
      "metadata": {
        "id": "mK_IWBOFb4Bh"
      }
    },
    {
      "cell_type": "code",
      "source": [
        "Parouimpar = int(input(\"insira um numero inteiro para saber se é par ou impar:\\n\"))\n",
        "par = Parouimpar % 2 == 0\n",
        "if par:\n",
        "  print(\"par\")\n",
        "else:\n",
        "  print(\"impar\")\n"
      ],
      "metadata": {
        "colab": {
          "base_uri": "https://localhost:8080/"
        },
        "outputId": "0006f028-a775-41ff-cb4a-b96026e3b1dc",
        "id": "PS-ctnj5b4Bi"
      },
      "execution_count": null,
      "outputs": [
        {
          "output_type": "stream",
          "name": "stdout",
          "text": [
            "insira um numero para saber se é par ou impar:\n",
            "1\n",
            "impar\n"
          ]
        }
      ]
    },
    {
      "cell_type": "markdown",
      "source": [
        "9) Escreva um programa que peça um número à pessoa usuária e informe se ele é inteiro ou decimal."
      ],
      "metadata": {
        "id": "pdHNj7Knb4Bi"
      }
    },
    {
      "cell_type": "code",
      "source": [
        "num = float(input(\"insira um numero:\\n\"))\n",
        "if num % 1 == 0:\n",
        "    print('O número é inteiro.')\n",
        "else:\n",
        "    print('O número é decimal.')"
      ],
      "metadata": {
        "colab": {
          "base_uri": "https://localhost:8080/"
        },
        "outputId": "9e61f527-ab0c-41d2-9480-e6d5b707fee7",
        "id": "dT2N9irTb4Bi"
      },
      "execution_count": null,
      "outputs": [
        {
          "output_type": "stream",
          "name": "stdout",
          "text": [
            "insira um numero:\n",
            "5.5\n",
            "O número é decimal.\n"
          ]
        }
      ]
    },
    {
      "cell_type": "markdown",
      "source": [
        "10) Um programa deve ser escrito para ler dois números e, em seguida, perguntar à pessoa usuária qual operação ele deseja realizar. O resultado da operação deve incluir informações sobre o número - se é par ou ímpar, positivo ou negativo e inteiro ou decimal."
      ],
      "metadata": {
        "id": "z2gOtRLub4Bi"
      }
    },
    {
      "cell_type": "code",
      "source": [
        "lern1 = float(input(\"insira o numero 1:\\n\"))\n",
        "op = input(\"insira a operação que deseja fazer( * , / , - ou +):\\n\")\n",
        "lern2 = float(input(\"insira o numero 2:\\n\"))\n",
        "\n",
        "#decidindo os operadores\n",
        "\n",
        "if op == '+':\n",
        "  resultado = lern1 + lern2\n",
        "elif op == '-':\n",
        "  resultado = lern1 - lern2\n",
        "elif op == '/':\n",
        "  resultado = lern1 / lern2\n",
        "elif op == '*':\n",
        "  resultado = lern1 * lern2\n",
        "else:\n",
        "  print(\"Valor invalido\")\n",
        "par = resultado % 2 == 0\n",
        "if par:\n",
        "  ParOuImpar = \"Par\"\n",
        "elif not par:\n",
        "  ParOuImpar = \"impar\"\n",
        "\n",
        "positivo = 0 < resultado\n",
        "if positivo:\n",
        "  PosOuNeg = \"Positivo\"\n",
        "elif not positivo:\n",
        "  PosOuNeg = \"Negativo\"\n",
        "\n",
        "inteiro = resultado % 1 == 0\n",
        "if inteiro:\n",
        "  IntOuDec = \"inteiro\"\n",
        "elif not inteiro:\n",
        "  IntOuDec = \"Decimal\"\n",
        "\n",
        "print(f\"o resultado da operação é:{resultado} que é um numero {PosOuNeg},{ParOuImpar} e {IntOuDec}\")\n"
      ],
      "metadata": {
        "id": "lLoicbZlb4Bi"
      },
      "execution_count": null,
      "outputs": []
    },
    {
      "cell_type": "markdown",
      "source": [
        "Desafios - Loops"
      ],
      "metadata": {
        "id": "gm9-1Ccwb7ZQ"
      }
    },
    {
      "cell_type": "markdown",
      "source": [
        "1) Escreva um programa que peça dois números inteiros e imprima todos os números inteiros entre eles."
      ],
      "metadata": {
        "id": "o36anF0u9Aml"
      }
    },
    {
      "cell_type": "code",
      "source": [
        "num1 = int(input(\"insira o primeiro n inteiro:\\n\"))\n",
        "num2 = int(input(\"insira o segundo n inteiro:\\n\"))\n",
        "count = 1\n",
        "if num1 < num2:\n",
        "  for contagem in range(num1,num2+1):\n",
        "    print(contagem)\n",
        "else:\n",
        "  for contagem in range(num2,num1+1):\n",
        "    print(contagem)\n",
        "\n",
        "\n"
      ],
      "metadata": {
        "id": "KBeY8z573YWz",
        "colab": {
          "base_uri": "https://localhost:8080/"
        },
        "outputId": "df5e3c37-f184-4824-9843-dd7eaf4125cf"
      },
      "execution_count": null,
      "outputs": [
        {
          "output_type": "stream",
          "name": "stdout",
          "text": [
            "insira o primeiro n inteiro:\n",
            "5\n",
            "insira o segundo n inteiro:\n",
            "10\n",
            "5\n",
            "6\n",
            "7\n",
            "8\n",
            "9\n",
            "10\n"
          ]
        }
      ]
    },
    {
      "cell_type": "markdown",
      "source": [
        "2) Escreva um programa para calcular quantos dias levará para a colônia de uma bactéria A ultrapassar ou igualar a colônia de uma bactéria B, com base nas taxas de crescimento de 3% e 1,5% respectivamente. Considere que a colônia A inicia com 4 elementos e a B com 10."
      ],
      "metadata": {
        "id": "ysBXU69n7zG1"
      }
    },
    {
      "cell_type": "code",
      "source": [
        "B = 10\n",
        "A = 4\n",
        "while B >= A:\n",
        "  A = A + A * 0.3\n",
        "  B = B + B * 0.15\n",
        "print(f\"Quantidade de individuos nas colônias A:{A} e B:{B}\")\n"
      ],
      "metadata": {
        "colab": {
          "base_uri": "https://localhost:8080/"
        },
        "id": "HjFmV2pK7z0P",
        "outputId": "21614d20-9cf1-4b95-dec1-ef10eeda478a"
      },
      "execution_count": null,
      "outputs": [
        {
          "output_type": "stream",
          "name": "stdout",
          "text": [
            "Quantidade de individuos nas colônias A:32.62922884 e B:30.59022862539063\n"
          ]
        }
      ]
    },
    {
      "cell_type": "markdown",
      "source": [
        "3) Para tratar uma quantidade de 15 dados de avaliações de pessoas usuárias de um serviço da empresa, precisamos verificar se as notas são válidas. Então, escreva um programa que vai receber a nota de 0 a 5 de todos os dados e verificar se é um valor válido. Caso seja inserido uma nota acima de 5 ou abaixo de 0, repita até que a pessoa usuária insira um valor válido."
      ],
      "metadata": {
        "id": "4XJo_1IO9kaP"
      }
    },
    {
      "cell_type": "code",
      "source": [
        "for notas in range(15):\n",
        "  notas = int(input(\"insira uma nota de 0 a 5:\\n\"))\n",
        "  while notas < 0 or notas > 5:\n",
        "    notas = int(input(\"insira uma nota valida entre 0 e 5:\\n\"))\n",
        "print(\"Obrigado por avaliar!\")\n"
      ],
      "metadata": {
        "colab": {
          "base_uri": "https://localhost:8080/"
        },
        "id": "R5ZzBVV19nQ5",
        "outputId": "034fdf0b-fb25-4386-d225-be6bbed6e197"
      },
      "execution_count": null,
      "outputs": [
        {
          "name": "stdout",
          "output_type": "stream",
          "text": [
            "insira uma nota de 0 a 5:\n",
            "-1\n",
            "insira uma nota valida entre 0 e 5:\n",
            "9\n",
            "insira uma nota valida entre 0 e 5:\n",
            "8\n",
            "insira uma nota valida entre 0 e 5:\n",
            "2\n",
            "insira uma nota de 0 a 5:\n",
            "2\n",
            "insira uma nota de 0 a 5:\n",
            "6\n",
            "insira uma nota valida entre 0 e 5:\n",
            "15\n",
            "insira uma nota valida entre 0 e 5:\n",
            "15\n",
            "insira uma nota valida entre 0 e 5:\n",
            "5\n",
            "insira uma nota de 0 a 5:\n",
            "5\n",
            "insira uma nota de 0 a 5:\n",
            "6\n",
            "insira uma nota valida entre 0 e 5:\n",
            "4\n",
            "insira uma nota de 0 a 5:\n",
            "3\n",
            "insira uma nota de 0 a 5:\n",
            "2\n",
            "insira uma nota de 0 a 5:\n",
            "1\n",
            "insira uma nota de 0 a 5:\n",
            "05\n",
            "insira uma nota de 0 a 5:\n",
            "88\n",
            "insira uma nota valida entre 0 e 5:\n",
            "3\n",
            "insira uma nota de 0 a 5:\n",
            "2\n",
            "insira uma nota de 0 a 5:\n",
            "5\n",
            "insira uma nota de 0 a 5:\n",
            "5\n",
            "insira uma nota de 0 a 5:\n",
            "5\n",
            "insira uma nota de 0 a 5:\n",
            "5\n"
          ]
        }
      ]
    },
    {
      "cell_type": "markdown",
      "source": [
        "4) Desenvolva um programa que leia um conjunto indeterminado de temperaturas em Celsius e informe a média delas. A leitura deve ser encerrada ao ser enviado o valor -273°C.\n",
        "\n"
      ],
      "metadata": {
        "id": "_6RuhIcf_iXi"
      }
    },
    {
      "cell_type": "code",
      "source": [
        "c = 0\n",
        "soma = 0\n",
        "count = 0\n",
        "while c != -273:\n",
        "  c = float(input(f\"Insira a temperatura {count+1}:\\n(caso queira parar digite -273)\"))\n",
        "  count = (count + 1)\n",
        "  soma = (soma + c)\n",
        "media = ((soma + 273) / count)\n",
        "print(f\"A media das temperaturas é:{media}\")"
      ],
      "metadata": {
        "id": "44WdhQe0_i_i"
      },
      "execution_count": null,
      "outputs": []
    },
    {
      "cell_type": "markdown",
      "source": [
        "5) Escreva um programa que calcule o fatorial de um número inteiro fornecido pela pessoa usuária. Lembrando que o fatorial de um número inteiro é a multiplicação desse número por todos os seus antecessores até o número 1. Por exemplo, o fatorial de 5 é 5 x 4 x 3 x 2 x 1 = 120.\n",
        "\n"
      ],
      "metadata": {
        "id": "HL9bR1ypBPW8"
      }
    },
    {
      "cell_type": "code",
      "source": [
        "numero = int(input(\"insira o numero que quer saber o fatorial:\\n\"))\n",
        "fatorial = 1\n",
        "um = 1\n",
        "for numeros in range(numero,0,-1):\n",
        "  print(numeros)\n",
        "  fatorial = fatorial * numeros\n",
        "print(f\"fatorial eh:{fatorial}\")"
      ],
      "metadata": {
        "colab": {
          "base_uri": "https://localhost:8080/"
        },
        "id": "WewvAkivBP_g",
        "outputId": "a4c4f0dc-bd83-408b-9d35-313e8d7f26da"
      },
      "execution_count": null,
      "outputs": [
        {
          "output_type": "stream",
          "name": "stdout",
          "text": [
            "insira o numero que quer saber o fatorial:\n",
            "5\n",
            "5\n",
            "4\n",
            "3\n",
            "2\n",
            "1\n",
            "fatorial eh:120\n"
          ]
        }
      ]
    },
    {
      "cell_type": "markdown",
      "source": [
        "\n",
        "6) Escreva um programa que gere a tabuada de um número inteiro de 1 a 10, de acordo com a escolha da pessoa usuária. Como exemplo, para o número 2, a tabuada deve ser mostrada no seguinte formato:\n",
        "\n",
        "Tabuada do 2:\n",
        "2 x 1 = 2\n",
        "2 x 2 = 4\n",
        "[...]\n",
        "2 x 10 = 20\n",
        "> Bloco com avanço\n",
        "\n"
      ],
      "metadata": {
        "id": "qPWwmSfCsi1m"
      }
    },
    {
      "cell_type": "code",
      "source": [
        "numero = int(input(\"insira um número inteiro para ver a sua tabuada até o 10:\\n\"))\n",
        "tabuada = 0\n",
        "for vezes in range(11):\n",
        "    tabuada = vezes * numero\n",
        "    print(f\"{numero} x {vezes} = {tabuada}\")\n"
      ],
      "metadata": {
        "colab": {
          "base_uri": "https://localhost:8080/"
        },
        "id": "BHPuz5c_sjNN",
        "outputId": "64140695-7f14-4cab-e1cd-3b6cf6e1c135"
      },
      "execution_count": null,
      "outputs": [
        {
          "output_type": "stream",
          "name": "stdout",
          "text": [
            "insira um número inteiro para ver a sua tabuada até o 10:\n",
            "2\n",
            "2 x 0 = 0\n",
            "2 x 1 = 2\n",
            "2 x 2 = 4\n",
            "2 x 3 = 6\n",
            "2 x 4 = 8\n",
            "2 x 5 = 10\n",
            "2 x 6 = 12\n",
            "2 x 7 = 14\n",
            "2 x 8 = 16\n",
            "2 x 9 = 18\n",
            "2 x 10 = 20\n"
          ]
        }
      ]
    },
    {
      "cell_type": "markdown",
      "source": [
        "7) Os números primos possuem várias aplicações dentro da Ciência de Dados em criptografia e segurança, por exemplo. Um número primo é aquele que é divisível apenas por um e por ele mesmo. Assim, faça um programa que peça um número inteiro e determine se ele é ou não um número primo."
      ],
      "metadata": {
        "id": "VHt_H7hstzBl"
      }
    },
    {
      "cell_type": "code",
      "source": [
        "numero = int(input(\"Insira um numero:\\n\"))\n",
        "\n",
        "for fatorial in range(2, (numero-1)):\n",
        "  primo = numero % fatorial\n",
        "  if primo == 0:\n",
        "    print(f\"esse numero não é primo\")\n",
        "    break\n",
        "  else:\n",
        "    print(\"esse numero é primo\")\n",
        "    break"
      ],
      "metadata": {
        "colab": {
          "base_uri": "https://localhost:8080/"
        },
        "id": "01R7jNRKuDlI",
        "outputId": "e1b647d6-701c-46d1-efb2-2b219e309070"
      },
      "execution_count": null,
      "outputs": [
        {
          "output_type": "stream",
          "name": "stdout",
          "text": [
            "Insira um numero:\n",
            "1000\n",
            "esse numero não é primo\n"
          ]
        }
      ]
    },
    {
      "cell_type": "markdown",
      "source": [
        "8) Vamos entender a distribuição de idades de pensionistas de uma empresa de previdência. Escreva um programa que leia as idades de uma quantidade não informada de clientes e mostre a distribuição em intervalos de [0-25], [26-50], [51-75] e [76-100]. Encerre a entrada de dados com um número negativo."
      ],
      "metadata": {
        "id": "CcRcQjkky44y"
      }
    },
    {
      "cell_type": "code",
      "source": [
        "idades_de_pensionistas = 1\n",
        "zero_25 = 0\n",
        "VinteSeis_50 = 0\n",
        "CinquentaUm_75 = 0\n",
        "SetentaSeis_100 = 0\n",
        "while idades_de_pensionistas > 0:\n",
        "  idades_de_pensionistas = int(input(\"insira as idades dos pensionistas e quando acabar digite -1:\\n\"))\n",
        "  if idades_de_pensionistas > 0 and idades_de_pensionistas < 25:\n",
        "    zero_25 = zero_25 + 1\n",
        "  if idades_de_pensionistas > 26 and idades_de_pensionistas < 50:\n",
        "    VinteSeis_50 = VinteSeis_50 + 1\n",
        "  if idades_de_pensionistas > 51 and idades_de_pensionistas < 75:\n",
        "    CinquentaUm_75 = CinquentaUm_75 + 1\n",
        "  if idades_de_pensionistas > 26 and idades_de_pensionistas < 50:\n",
        "    SetentaSeis_100 = SetentaSeis_100 + 1\n",
        "\n",
        "print(f\"Intervalo\\tDistribuição\\n0-25\\t\\t{zero_25}\\n26-50\\t\\t{VinteSeis_50}\\n51-75\\t\\t{CinquentaUm_75}\\n76-100\\t\\t{SetentaSeis_100}\")\n"
      ],
      "metadata": {
        "colab": {
          "base_uri": "https://localhost:8080/"
        },
        "id": "ijKL_hnOy5yD",
        "outputId": "27a7db99-9b95-4471-87c0-acda8ae95f7c"
      },
      "execution_count": null,
      "outputs": [
        {
          "output_type": "stream",
          "name": "stdout",
          "text": [
            "insira as idades dos pensionistas e quando acabar digite -1:\n",
            "5\n",
            "insira as idades dos pensionistas e quando acabar digite -1:\n",
            "27\n",
            "insira as idades dos pensionistas e quando acabar digite -1:\n",
            "52\n",
            "insira as idades dos pensionistas e quando acabar digite -1:\n",
            "69\n",
            "insira as idades dos pensionistas e quando acabar digite -1:\n",
            "75\n",
            "insira as idades dos pensionistas e quando acabar digite -1:\n",
            "99\n",
            "insira as idades dos pensionistas e quando acabar digite -1:\n",
            "100\n",
            "insira as idades dos pensionistas e quando acabar digite -1:\n",
            "-1\n",
            "Intervalo\tDistribuição\n",
            "0-25\t\t1\n",
            "26-50\t\t1\n",
            "51-75\t\t2\n",
            "76-100\t\t1\n"
          ]
        }
      ]
    },
    {
      "cell_type": "markdown",
      "source": [
        "9) Em uma eleição para gerência em uma empresa com 20 pessoas colaboradoras, existem quatro candidatos(as). Escreva um programa que calcule o(a) vencedor(a) da eleição. A votação ocorreu da seguinte maneira:\n",
        "\n",
        "Cada colaborador(a) votou em uma das quatro pessoas candidatas (que representamos pelos números 1, 2, 3 e 4).\n",
        "Também foram contabilizados os votos nulos (representados pelo número 5) e os votos em branco (representados pelo número 6).\n",
        "Ao final da votação, o programa deve exibir o número total de votos para cada candidato(a), os nulos e os votos em branco. Além disso, deve calcular e exibir a porcentagem de votos nulos em relação ao total de votos e a porcentagem de votos em branco em relação ao total de votos."
      ],
      "metadata": {
        "id": "wakyRz4I44Am"
      }
    },
    {
      "cell_type": "code",
      "source": [
        "count1 = 0\n",
        "count2 = 0\n",
        "count3 = 0\n",
        "count4 = 0\n",
        "nulo = 0\n",
        "branco = 0\n",
        "voto = 0\n",
        "for votos in range(20):\n",
        "  voto = int(input(\"Insira seu Voto conforme a tabela:\\n\"))\n",
        "  if voto == 1:\n",
        "    count1 = count1 + 1\n",
        "  if voto == 2:\n",
        "    count2 = count2 + 1\n",
        "  if voto == 3:\n",
        "    count3 = count3 + 1\n",
        "  if voto == 4:\n",
        "    count4 = count4 + 1\n",
        "  if voto == 5:\n",
        "    nulo = nulo + 1\n",
        "  if voto == 6:\n",
        "    branco = branco + 1\n",
        "porcentagem_brancos = (branco * 100) / 20\n",
        "porcentagem_nulo= (nulo * 100) / 20\n",
        "print(f\"Resultado Votação:\\nCandidatos\\tVotos\\tPorcentagem\\n1\\t\\t{count1}\\n2\\t\\t{count2}\\n3\\t\\t{count3}\\n4\\t\\t{count4}\\nBrancos\\t\\t{branco}\\t\\t{porcentagem_brancos}\\nNulos\\t\\t{nulo}\\t\\t{porcentagem_nulo}\")"
      ],
      "metadata": {
        "colab": {
          "base_uri": "https://localhost:8080/",
          "height": 626
        },
        "id": "xiJ7sMw_5HHb",
        "outputId": "6bd79afb-2c20-4221-a5ef-2c2d799667af"
      },
      "execution_count": null,
      "outputs": [
        {
          "name": "stdout",
          "output_type": "stream",
          "text": [
            "Insira seu Voto conforme a tabela:\n",
            "5\n",
            "Insira seu Voto conforme a tabela:\n",
            "6\n",
            "Insira seu Voto conforme a tabela:\n",
            "6\n",
            "Insira seu Voto conforme a tabela:\n",
            "5\n",
            "Insira seu Voto conforme a tabela:\n",
            "4\n",
            "Insira seu Voto conforme a tabela:\n",
            "3\n",
            "Insira seu Voto conforme a tabela:\n",
            "2\n",
            "Insira seu Voto conforme a tabela:\n",
            "1\n",
            "Insira seu Voto conforme a tabela:\n",
            "1\n",
            "Insira seu Voto conforme a tabela:\n",
            "2\n",
            "Insira seu Voto conforme a tabela:\n",
            "\n"
          ]
        },
        {
          "output_type": "error",
          "ename": "ValueError",
          "evalue": "ignored",
          "traceback": [
            "\u001b[0;31m---------------------------------------------------------------------------\u001b[0m",
            "\u001b[0;31mValueError\u001b[0m                                Traceback (most recent call last)",
            "\u001b[0;32m<ipython-input-58-3d31293e19f8>\u001b[0m in \u001b[0;36m<cell line: 8>\u001b[0;34m()\u001b[0m\n\u001b[1;32m      7\u001b[0m \u001b[0mvoto\u001b[0m \u001b[0;34m=\u001b[0m \u001b[0;36m0\u001b[0m\u001b[0;34m\u001b[0m\u001b[0;34m\u001b[0m\u001b[0m\n\u001b[1;32m      8\u001b[0m \u001b[0;32mfor\u001b[0m \u001b[0mvotos\u001b[0m \u001b[0;32min\u001b[0m \u001b[0mrange\u001b[0m\u001b[0;34m(\u001b[0m\u001b[0;36m20\u001b[0m\u001b[0;34m)\u001b[0m\u001b[0;34m:\u001b[0m\u001b[0;34m\u001b[0m\u001b[0;34m\u001b[0m\u001b[0m\n\u001b[0;32m----> 9\u001b[0;31m   \u001b[0mvoto\u001b[0m \u001b[0;34m=\u001b[0m \u001b[0mint\u001b[0m\u001b[0;34m(\u001b[0m\u001b[0minput\u001b[0m\u001b[0;34m(\u001b[0m\u001b[0;34m\"Insira seu Voto conforme a tabela:\\n\"\u001b[0m\u001b[0;34m)\u001b[0m\u001b[0;34m)\u001b[0m\u001b[0;34m\u001b[0m\u001b[0;34m\u001b[0m\u001b[0m\n\u001b[0m\u001b[1;32m     10\u001b[0m   \u001b[0;32mif\u001b[0m \u001b[0mvoto\u001b[0m \u001b[0;34m==\u001b[0m \u001b[0;36m1\u001b[0m\u001b[0;34m:\u001b[0m\u001b[0;34m\u001b[0m\u001b[0;34m\u001b[0m\u001b[0m\n\u001b[1;32m     11\u001b[0m     \u001b[0mcount1\u001b[0m \u001b[0;34m=\u001b[0m \u001b[0mcount1\u001b[0m \u001b[0;34m+\u001b[0m \u001b[0;36m1\u001b[0m\u001b[0;34m\u001b[0m\u001b[0;34m\u001b[0m\u001b[0m\n",
            "\u001b[0;31mValueError\u001b[0m: invalid literal for int() with base 10: ''"
          ]
        }
      ]
    },
    {
      "cell_type": "markdown",
      "source": [
        "Desafios de Listas e dicionários:"
      ],
      "metadata": {
        "id": "qQ3XJTs0TTRr"
      }
    },
    {
      "cell_type": "markdown",
      "source": [
        "1) Faça um programa que tenha a seguinte lista contendo os valores de gastos de uma empresa de papel [2172.54, 3701.35, 3518.09, 3456.61, 3249.38, 2840.82, 3891.45, 3075.26, 2317.64, 3219.08]. Com esses valores, faça um programa que calcule a média de gastos. Dica: use as funções built-in sum() e len()."
      ],
      "metadata": {
        "id": "rjNcBw1U5eH1"
      }
    },
    {
      "cell_type": "code",
      "source": [
        "# @title\n",
        "DunderMiflin=[2172.54, 3701.35, 3518.09, 3456.61, 3249.38, 2840.82, 3891.45, 3075.26, 2317.64, 3219.08]\n",
        "soma = sum(DunderMiflin)\n",
        "tamanho = len(DunderMiflin)\n",
        "media = soma / tamanho\n",
        "print(f\"a média é:{media}\")"
      ],
      "metadata": {
        "colab": {
          "base_uri": "https://localhost:8080/"
        },
        "id": "QKdqkNux5fNx",
        "outputId": "ade426eb-bf8f-4bd6-a098-fce47eaa9db6",
        "cellView": "form"
      },
      "execution_count": null,
      "outputs": [
        {
          "output_type": "stream",
          "name": "stdout",
          "text": [
            "a média é:3144.222\n"
          ]
        }
      ]
    },
    {
      "cell_type": "markdown",
      "source": [
        "2) Com os mesmos dados da questão anterior, defina quantas compras foram realizadas acima de 3000 reais e calcule a porcentagem quanto ao total de compras.\n",
        "\n",
        "for compras in DunderMiflin\n",
        "  if compras > 3000:\n",
        "    "
      ],
      "metadata": {
        "id": "C6qqX1Y46Mzp"
      }
    },
    {
      "cell_type": "code",
      "source": [
        "# @title\n",
        "count = 0\n",
        "for compras in DunderMiflin:\n",
        "  if compras > 3000:\n",
        "    count = count +1\n",
        "print(f\"{count} compras realizadas por mais de 3k\\n\")\n",
        "porcentual = ((count*100) / len(DunderMiflin))\n",
        "print(f\"com {porcentual}%\")"
      ],
      "metadata": {
        "id": "S60jjpZI6a7k",
        "cellView": "form"
      },
      "execution_count": null,
      "outputs": []
    },
    {
      "cell_type": "markdown",
      "source": [
        "3) Faça um código que colete em uma lista 5 números inteiros quaisquer e imprima a lista. Exemplo: [1,4,7,2,4].\n",
        "\n"
      ],
      "metadata": {
        "id": "mrMTlFMf7jjv"
      }
    },
    {
      "cell_type": "code",
      "source": [
        "# @title\n",
        "numeros = []\n",
        "for sla in range(5):\n",
        "  new = int(input(\"insira um numero:\\n\"))\n",
        "  numeros.append(new)\n",
        "print(f\"{numeros}\")"
      ],
      "metadata": {
        "colab": {
          "base_uri": "https://localhost:8080/"
        },
        "id": "42YKwEoI7jXI",
        "outputId": "a7caec51-a45a-49c4-cc94-9a458bbf8310",
        "cellView": "form"
      },
      "execution_count": null,
      "outputs": [
        {
          "output_type": "stream",
          "name": "stdout",
          "text": [
            "insira um numero:\n",
            "1\n",
            "insira um numero:\n",
            "2\n",
            "insira um numero:\n",
            "3\n",
            "insira um numero:\n",
            "4\n",
            "insira um numero:\n",
            "5\n",
            "[1, 2, 3, 4, 5]\n"
          ]
        }
      ]
    },
    {
      "cell_type": "markdown",
      "source": [
        "4) Colete novamente 5 inteiros e imprima a lista em ordem inversa à enviada."
      ],
      "metadata": {
        "id": "jM8qS0y-9iD5"
      }
    },
    {
      "cell_type": "code",
      "source": [
        "# @title\n",
        "numeros = []\n",
        "for sla in range(5):\n",
        "  new = int(input(\"insira um numero:\\n\"))\n",
        "  numeros.append(new)\n",
        "numeros.reverse()\n",
        "print(f\"{numeros}\")"
      ],
      "metadata": {
        "colab": {
          "base_uri": "https://localhost:8080/"
        },
        "id": "sFO7OcZc7i6i",
        "outputId": "af448dbb-4c9f-4810-b181-289676d68ce0",
        "cellView": "form"
      },
      "execution_count": null,
      "outputs": [
        {
          "output_type": "stream",
          "name": "stdout",
          "text": [
            "insira um numero:\n",
            "1\n",
            "insira um numero:\n",
            "2\n",
            "insira um numero:\n",
            "3\n",
            "insira um numero:\n",
            "4\n",
            "insira um numero:\n",
            "5\n",
            "[5, 4, 3, 2, 1]\n"
          ]
        }
      ]
    },
    {
      "cell_type": "markdown",
      "source": [
        "7) Para um estudo envolvendo o nível de multiplicação de bactérias em uma colônia, foi coletado o número de bactérias multiplicadas por dia e pode ser observado a seguir: [1.2, 2.1, 3.3, 5.0, 7.8, 11.3, 16.6, 25.1, 37.8, 56.9]. Tendo esses valores, faça um código que gere uma lista contendo o percentual de crescimento de bactérias por dia, comparando o número de bactérias em cada dia com o número de bactérias do dia anterior. Dica: para calcular o percentual de crescimento usamos a seguinte equação: 100 * (amostra_atual - amostra_passada) / (amostra_passada).\n",
        "\n"
      ],
      "metadata": {
        "id": "ZqfKS9Ss6XdH"
      }
    },
    {
      "cell_type": "code",
      "source": [
        "# @title\n",
        "MultiplicaçãoPorDia = [1.2, 2.1, 3.3, 5.0, 7.8, 11.3, 16.6, 25.1, 37.8, 56.9]\n",
        "percentualLista = []\n",
        "for amostra in range(1, len(MultiplicaçãoPorDia)):\n",
        "  percentual = 100 * (MultiplicaçãoPorDia[amostra] - MultiplicaçãoPorDia[amostra-1]) / MultiplicaçãoPorDia[amostra-1]\n",
        "  percentualLista.append(percentual)\n",
        "print(f\"{percentualLista}\")"
      ],
      "metadata": {
        "id": "0qEbG5fn6YKK",
        "cellView": "form"
      },
      "execution_count": null,
      "outputs": []
    },
    {
      "cell_type": "markdown",
      "source": [
        "8) Para uma seleção de produtos alimentícios, precisamos separar o conjunto de IDs dados por números inteiros sabendo que os produtos com ID par são doces e os com ID ímpar são amargos. Monte um código que colete 10 IDs. Depois, calcule e mostre a quantidade de produtos doces e amargos.\n",
        "\n"
      ],
      "metadata": {
        "id": "cpT1ZnG0_cRI"
      }
    },
    {
      "cell_type": "code",
      "source": [
        "# @title\n",
        "doces_parIds = []\n",
        "amargos_imparIds = []\n",
        "for i in range(10):\n",
        "  Id = int(input(\"Insira o Id:\\n\"))\n",
        "  if Id % 2 == 0:\n",
        "    doces_parIds.append(Id)\n",
        "  else:\n",
        "    amargos_imparIds.append(Id)\n",
        "Ids = {'doces': len(doces_parIds), 'armargos': len(amargos_imparIds)}\n",
        "print(f\"{Ids}\")"
      ],
      "metadata": {
        "id": "Fo9e3Okl_hf8",
        "cellView": "form"
      },
      "execution_count": null,
      "outputs": []
    },
    {
      "cell_type": "markdown",
      "source": [
        "9) Desenvolva um programa que informa a nota de um(a) aluno(a) de acordo com suas respostas. Ele deve pedir a resposta desse(a) aluno(a) para cada questão e é preciso verificar se a resposta foi igual ao gabarito. Cada questão vale um ponto e existem as alternativas A, B, C ou D.\n",
        "\n"
      ],
      "metadata": {
        "id": "uRxgaAljB2oa"
      }
    },
    {
      "cell_type": "code",
      "source": [
        "# @title\n",
        "Gabarito = {'1': 'D',\n",
        "'2' : 'A',\n",
        "'3' : 'C',\n",
        "'4' : 'B',\n",
        "'5' : 'A',\n",
        "'6' : 'D',\n",
        "'7' : 'C',\n",
        "'8' : 'C',\n",
        "'9' : 'A',\n",
        "'10' : 'B'}\n",
        "pontos = 0\n",
        "for ins in range(1,11):\n",
        "  resposta = str(input(f\"Resposta da questão {ins}:\\n\"))\n",
        "  resposta = resposta.upper()\n",
        "  if resposta in Gabarito[f'{ins}']:\n",
        "    pontos = pontos +1\n",
        "print(f\"VC TIROU: {pontos}\")"
      ],
      "metadata": {
        "colab": {
          "base_uri": "https://localhost:8080/"
        },
        "id": "tc1Izqn_By-n",
        "outputId": "2c03ae59-d439-493b-a810-4e5ba2d93c18",
        "cellView": "form"
      },
      "execution_count": null,
      "outputs": [
        {
          "output_type": "stream",
          "name": "stdout",
          "text": [
            "Resposta da questão 1:\n",
            "A\n",
            "Resposta da questão 2:\n",
            "A\n",
            "Resposta da questão 3:\n",
            "C\n",
            "Resposta da questão 4:\n",
            "B\n",
            "Resposta da questão 5:\n",
            "A\n",
            "Resposta da questão 6:\n",
            "D\n",
            "Resposta da questão 7:\n",
            "B\n",
            "Resposta da questão 8:\n",
            "B\n",
            "Resposta da questão 9:\n",
            "B\n",
            "Resposta da questão 10:\n",
            "B\n",
            "VC TIROU: 6\n"
          ]
        }
      ]
    },
    {
      "cell_type": "markdown",
      "source": [
        "10) Um instituto de meteorologia deseja fazer um estudo de temperatura média de cada mês do ano. Para isso, você precisa fazer um código que colete e armazene essas temperaturas médias em uma lista. Depois, calcule a média anual das temperaturas e mostre todas as temperaturas acima da média anual e em que mês elas ocorreram, mostrando os meses por extenso (Janeiro, Fevereiro, etc.).\n",
        "\n"
      ],
      "metadata": {
        "id": "mGozM0tzJ8vd"
      }
    },
    {
      "cell_type": "code",
      "source": [
        "# @title\n",
        "meses_invertido = [\n",
        "    'janeiro',\n",
        "    'fevereiro',\n",
        "    'março',\n",
        "    'abril',\n",
        "    'maio',\n",
        "    'junho',\n",
        "    'julho',\n",
        "    'agosto',\n",
        "    'setembro',\n",
        "    'outubro',\n",
        "    'novembro',\n",
        "    'dezembro'\n",
        "]\n",
        "medias = []\n",
        "for mes in meses_invertido:\n",
        "  tempMedia = float(input(f\"insira a média de temperatura para {mes}:\\n\"))\n",
        "  medias.append(tempMedia)\n",
        "media = sum(medias)/len(medias)\n",
        "print(f\"a media de temperatura dos meses é: {media}\")\n",
        "print(f\"os meses que ficaram acima da média são:\\n\")\n",
        "count = 0\n",
        "for acima in medias:\n",
        "  if acima > media:\n",
        "    numero_cima = medias.index(acima)\n",
        "    mes_cima = count\n",
        "    print(f\"{meses_invertido[mes_cima]}:{medias[numero_cima]}\")\n",
        "  count+= 1"
      ],
      "metadata": {
        "id": "R5RkvuHJudZZ",
        "colab": {
          "base_uri": "https://localhost:8080/"
        },
        "outputId": "0805f88f-93e6-4b49-dea1-f908c455cd6a"
      },
      "execution_count": 11,
      "outputs": [
        {
          "output_type": "stream",
          "name": "stdout",
          "text": [
            "insira a média de temperatura para janeiro:\n",
            "40\n",
            "insira a média de temperatura para fevereiro:\n",
            "12\n",
            "insira a média de temperatura para março:\n",
            "10\n",
            "insira a média de temperatura para abril:\n",
            "40\n",
            "insira a média de temperatura para maio:\n",
            "15\n",
            "insira a média de temperatura para junho:\n",
            "13\n",
            "insira a média de temperatura para julho:\n",
            "40\n",
            "insira a média de temperatura para agosto:\n",
            "10\n",
            "insira a média de temperatura para setembro:\n",
            "12\n",
            "insira a média de temperatura para outubro:\n",
            "40\n",
            "insira a média de temperatura para novembro:\n",
            "15\n",
            "insira a média de temperatura para dezembro:\n",
            "16\n",
            "a media de temperatura dos meses é: 21.916666666666668\n",
            "os meses que ficaram acima da média são:\n",
            "\n",
            "janeiro:40.0\n",
            "0\n",
            "abril:40.0\n",
            "3\n",
            "julho:40.0\n",
            "6\n",
            "outubro:40.0\n",
            "9\n"
          ]
        }
      ]
    }
  ]
}